{
 "cells": [
  {
   "cell_type": "code",
   "execution_count": 1,
   "metadata": {
    "collapsed": true
   },
   "outputs": [],
   "source": [
    "import osmnx as ox\n",
    "import osmnx as ox, networkx as nx, numpy as np\n",
    "ox.config(log_console=True, use_cache=True)\n",
    "G=nx.Graph()"
   ]
  },
  {
   "cell_type": "code",
   "execution_count": 2,
   "metadata": {},
   "outputs": [],
   "source": [
    "G.add_edge('A', 'B', length = 1, impedance = 2)\n",
    "G.add_edge('A', 'C', length = 4, impedance = 1)\n",
    "G.add_edge('C', 'B', length = 2, impedance = 2)\n",
    "G.add_edge('B', 'E', length = 5, impedance = 2)\n",
    "G.add_edge('C', 'E', length = 5, impedance = 2)\n",
    "G.add_edge('E', 'D', length = 6, impedance = 1)\n",
    "G.add_edge('F', 'G', length = 7, impedance = 3)\n",
    "G.add_edge('E', 'G', length = 3, impedance = 3)\n",
    "G.add_edge('D', 'F', length = 6, impedance = 2)\n",
    "G.add_edge('A', 'A', length = 0, impedance = 0)\n",
    "\n",
    "\n",
    "G.add_edge('A', 'H', length = 1, impedance = 2)\n",
    "G.add_edge('I', 'C', length = 4, impedance = 1)\n",
    "G.add_edge('C', 'J', length = 2, impedance = 2)\n",
    "G.add_edge('B', 'E', length = 5, impedance = 2)\n",
    "G.add_edge('K', 'E', length = 5, impedance = 2)\n",
    "G.add_edge('E', 'L', length = 6, impedance = 1)\n",
    "G.add_edge('F', 'G', length = 7, impedance = 3)\n",
    "G.add_edge('M', 'G', length = 3, impedance = 3)\n",
    "G.add_edge('H', 'K', length = 6, impedance = 2)\n",
    "G.add_edge('J', 'I', length = 0, impedance = 0)\n",
    "\n",
    "\n",
    "G.add_edge('N', 'H', length = 1, impedance = 2)\n",
    "G.add_edge('K', 'C', length = 4, impedance = 1)\n",
    "G.add_edge('C', 'N', length = 2, impedance = 2)\n",
    "G.add_edge('B', 'M', length = 5, impedance = 2)\n",
    "G.add_edge('L', 'O', length = 5, impedance = 2)\n",
    "G.add_edge('E', 'L', length = 6, impedance = 1)\n",
    "G.add_edge('P', 'G', length = 7, impedance = 3)\n",
    "G.add_edge('Q', 'G', length = 3, impedance = 3)\n",
    "G.add_edge('B', 'K', length = 6, impedance = 2)\n",
    "G.add_edge('J', 'N', length = 0, impedance = 0)\n",
    "\n",
    "\n",
    "G.add_edge('R', 'H', length = 1, impedance = 2)\n",
    "G.add_edge('K', 'A', length = 4, impedance = 1)\n",
    "G.add_edge('T', 'N', length = 2, impedance = 2)\n",
    "G.add_edge('U', 'G', length = 5, impedance = 2)\n",
    "G.add_edge('C', 'V', length = 5, impedance = 2)\n",
    "G.add_edge('G', 'E', length = 6, impedance = 1)\n",
    "G.add_edge('S', 'A', length = 7, impedance = 3)\n",
    "G.add_edge('D', 'T', length = 3, impedance = 3)\n",
    "G.add_edge('B', 'G', length = 6, impedance = 2)\n",
    "G.add_edge('V', 'N', length = 0, impedance = 0)\n",
    "\n",
    "\n",
    "G.add_node('A',h_value = 9) \n",
    "G.add_node('B',h_value = 5) \n",
    "G.add_node('C',h_value = 3) \n",
    "G.add_node('D',h_value = 4) \n",
    "G.add_node('E',h_value = 1) \n",
    "G.add_node('G',h_value = 0) \n",
    "G.add_node('F',h_value = 3) \n",
    "G.add_node('H',h_value = 7) \n",
    "G.add_node('I',h_value = 5) \n",
    "G.add_node('J',h_value = 3) \n",
    "G.add_node('K',h_value = 6) \n",
    "G.add_node('L',h_value = 1) \n",
    "G.add_node('M',h_value = 0) \n",
    "G.add_node('N',h_value = 5) \n",
    "G.add_node('O',h_value = 3) \n",
    "G.add_node('P',h_value = 4) \n",
    "G.add_node('Q',h_value = 9) \n",
    "G.add_node('R',h_value = 0) \n",
    "G.add_node('S',h_value = 9) \n",
    "G.add_node('T',h_value = 3) \n",
    "G.add_node('U',h_value = 4) \n",
    "G.add_node('V',h_value = 1) \n",
    "\n"
   ]
  },
  {
   "cell_type": "code",
   "execution_count": 3,
   "metadata": {
    "collapsed": true
   },
   "outputs": [],
   "source": [
    "G.add_node('Z',h_value = 0) "
   ]
  },
  {
   "cell_type": "code",
   "execution_count": 4,
   "metadata": {},
   "outputs": [
    {
     "data": {
      "text/plain": [
       "True"
      ]
     },
     "execution_count": 4,
     "metadata": {},
     "output_type": "execute_result"
    }
   ],
   "source": [
    "bool(G.neighbors('Z'))"
   ]
  },
  {
   "cell_type": "code",
   "execution_count": 5,
   "metadata": {},
   "outputs": [
    {
     "data": {
      "text/plain": [
       "<dictionary-keyiterator at 0x14da3d18>"
      ]
     },
     "execution_count": 5,
     "metadata": {},
     "output_type": "execute_result"
    }
   ],
   "source": [
    "G.neighbors('Z')"
   ]
  },
  {
   "cell_type": "code",
   "execution_count": 6,
   "metadata": {
    "scrolled": true
   },
   "outputs": [
    {
     "data": {
      "text/plain": [
       "<dictionary-keyiterator at 0x14da3ef8>"
      ]
     },
     "execution_count": 6,
     "metadata": {},
     "output_type": "execute_result"
    }
   ],
   "source": [
    "z_neightbor = nx.all_neighbors(G, 'Z')\n",
    "z_neightbor"
   ]
  },
  {
   "cell_type": "code",
   "execution_count": 7,
   "metadata": {},
   "outputs": [
    {
     "data": {
      "text/plain": [
       "[(('A', 'A'), {'impedance': 0, 'length': 0}),\n",
       " (('A', 'C'), {'impedance': 1, 'length': 4}),\n",
       " (('A', 'B'), {'impedance': 2, 'length': 1}),\n",
       " (('A', 'H'), {'impedance': 2, 'length': 1}),\n",
       " (('A', 'K'), {'impedance': 1, 'length': 4}),\n",
       " (('A', 'S'), {'impedance': 3, 'length': 7}),\n",
       " (('C', 'B'), {'impedance': 2, 'length': 2}),\n",
       " (('C', 'E'), {'impedance': 2, 'length': 5}),\n",
       " (('C', 'I'), {'impedance': 1, 'length': 4}),\n",
       " (('C', 'K'), {'impedance': 1, 'length': 4}),\n",
       " (('C', 'J'), {'impedance': 2, 'length': 2}),\n",
       " (('C', 'N'), {'impedance': 2, 'length': 2}),\n",
       " (('C', 'V'), {'impedance': 2, 'length': 5}),\n",
       " (('B', 'E'), {'impedance': 2, 'length': 5}),\n",
       " (('B', 'G'), {'impedance': 2, 'length': 6}),\n",
       " (('B', 'K'), {'impedance': 2, 'length': 6}),\n",
       " (('B', 'M'), {'impedance': 2, 'length': 5}),\n",
       " (('E', 'D'), {'impedance': 1, 'length': 6}),\n",
       " (('E', 'G'), {'impedance': 1, 'length': 6}),\n",
       " (('E', 'K'), {'impedance': 2, 'length': 5}),\n",
       " (('E', 'L'), {'impedance': 1, 'length': 6}),\n",
       " (('D', 'T'), {'impedance': 3, 'length': 3}),\n",
       " (('D', 'F'), {'impedance': 2, 'length': 6}),\n",
       " (('G', 'F'), {'impedance': 3, 'length': 7}),\n",
       " (('G', 'M'), {'impedance': 3, 'length': 3}),\n",
       " (('G', 'Q'), {'impedance': 3, 'length': 3}),\n",
       " (('G', 'P'), {'impedance': 3, 'length': 7}),\n",
       " (('G', 'U'), {'impedance': 2, 'length': 5}),\n",
       " (('I', 'J'), {'impedance': 0, 'length': 0}),\n",
       " (('H', 'K'), {'impedance': 2, 'length': 6}),\n",
       " (('H', 'R'), {'impedance': 2, 'length': 1}),\n",
       " (('H', 'N'), {'impedance': 2, 'length': 1}),\n",
       " (('J', 'N'), {'impedance': 0, 'length': 0}),\n",
       " (('L', 'O'), {'impedance': 2, 'length': 5}),\n",
       " (('N', 'T'), {'impedance': 2, 'length': 2}),\n",
       " (('N', 'V'), {'impedance': 0, 'length': 0})]"
      ]
     },
     "execution_count": 7,
     "metadata": {},
     "output_type": "execute_result"
    }
   ],
   "source": [
    "G.edges.items()"
   ]
  },
  {
   "cell_type": "code",
   "execution_count": 8,
   "metadata": {},
   "outputs": [
    {
     "data": {
      "text/plain": [
       "[('A', {'h_value': 9}),\n",
       " ('C', {'h_value': 3}),\n",
       " ('B', {'h_value': 5}),\n",
       " ('E', {'h_value': 1}),\n",
       " ('D', {'h_value': 4}),\n",
       " ('G', {'h_value': 0}),\n",
       " ('F', {'h_value': 3}),\n",
       " ('I', {'h_value': 5}),\n",
       " ('H', {'h_value': 7}),\n",
       " ('K', {'h_value': 6}),\n",
       " ('J', {'h_value': 3}),\n",
       " ('M', {'h_value': 0}),\n",
       " ('L', {'h_value': 1}),\n",
       " ('O', {'h_value': 3}),\n",
       " ('N', {'h_value': 5}),\n",
       " ('Q', {'h_value': 9}),\n",
       " ('P', {'h_value': 4}),\n",
       " ('S', {'h_value': 9}),\n",
       " ('R', {'h_value': 0}),\n",
       " ('U', {'h_value': 4}),\n",
       " ('T', {'h_value': 3}),\n",
       " ('V', {'h_value': 1}),\n",
       " ('Z', {'h_value': 0})]"
      ]
     },
     "execution_count": 8,
     "metadata": {},
     "output_type": "execute_result"
    }
   ],
   "source": [
    "G.nodes.items()"
   ]
  },
  {
   "cell_type": "code",
   "execution_count": 9,
   "metadata": {
    "scrolled": true
   },
   "outputs": [
    {
     "data": {
      "text/plain": [
       "['A', 'B', 'G']"
      ]
     },
     "execution_count": 9,
     "metadata": {},
     "output_type": "execute_result"
    }
   ],
   "source": [
    "route_by_length = nx.shortest_path(G, source='A', target='G', weight='length')\n",
    "route_by_length"
   ]
  },
  {
   "cell_type": "code",
   "execution_count": 10,
   "metadata": {},
   "outputs": [
    {
     "data": {
      "text/plain": [
       "['A', 'B', 'G']"
      ]
     },
     "execution_count": 10,
     "metadata": {},
     "output_type": "execute_result"
    }
   ],
   "source": [
    "route_by_impedance = nx.shortest_path(G, source='A', target='G', weight='impedance')\n",
    "route_by_impedance"
   ]
  },
  {
   "cell_type": "code",
   "execution_count": 11,
   "metadata": {
    "collapsed": true
   },
   "outputs": [],
   "source": [
    "from searchAstar import *\n",
    "travel_dis = 0\n",
    "    #initialize open list: contains one node at a time, a parent node, remove that node,\n",
    "    #add node's neighbor with the least cost\n",
    "open_list = PriorityQueue()\n",
    "    #initialize closed list: is a record of all locations which have been explored and evaluated by the algorithm.\n",
    "close_list = []"
   ]
  },
  {
   "cell_type": "code",
   "execution_count": 12,
   "metadata": {},
   "outputs": [],
   "source": [
    "def find_shortest_path_gain(G, origin, destination):\n",
    "    print('origin', origin)\n",
    "    print('destination', destination)\n",
    "    print('start')\n",
    "    travel_length = 0\n",
    "        #add origin to open_list\n",
    "    open_list.put(origin, 0)\n",
    "    cost_elevation = 0\n",
    "\n",
    "    while not open_list.empty():\n",
    "        print('close_list', close_list)\n",
    "            #At origin, find path with minimum elevation gain => find node with least f on the open list\n",
    "            #remove from the list\n",
    "        current_node = open_list.get()\n",
    "        print('Pop a node out of open list')\n",
    "        print('current_node', current_node)\n",
    "\n",
    "        open_list.display()\n",
    "        has_path = True\n",
    "      #  print('current node', current_node)\n",
    "       # print(current_node == destination)\n",
    "       # print('is empty', open_list.empty())\n",
    "      #  print(type(current_node))\n",
    "      #  print(type(destination))\n",
    "        if current_node == destination:\n",
    "            print(current_node == destination)\n",
    "            close_list.append(current_node)\n",
    "            return  close_list, travel_length\n",
    "\n",
    "        else:\n",
    "            if current_node not in close_list:\n",
    "               # print(G.neighbors(current_node))\n",
    "                for next_node in G.neighbors(current_node):\n",
    "                    \n",
    "                    if next_node == destination:\n",
    "                        close_list.append(current_node)\n",
    "                        close_list.append(next_node)\n",
    "                        return  close_list, travel_length\n",
    "                    \n",
    "                  #  print('next node', next_node)\n",
    "                    if next_node not in close_list:\n",
    "                        elevation = G.get_edge_data(current_node,next_node)['impedance']\n",
    "                        g = G.get_edge_data(current_node,next_node)['length']\n",
    "                     \n",
    "                        h = G.node[next_node]['h_value']           \n",
    "                        f = g+h\n",
    "                        print('next node', next_node)\n",
    "                        print('g',g)\n",
    "                        print('h', h)\n",
    "                        print('f',f)\n",
    "                        \n",
    "                        possible_travel_length = travel_length + f\n",
    "                        print('in open list?', open_list.isContain(next_node))\n",
    "                        if open_list.empty() or not open_list.isContain(next_node):\n",
    "                                open_list.put(next_node, f)\n",
    "         \n",
    "                                    \n",
    "                                travel_length += g\n",
    "\n",
    "                                   # print('close_list', close_list)\n",
    "                   \n",
    "                    open_list.display()\n",
    "        if current_node not in close_list:\n",
    "            close_list.append(current_node)\n",
    "            print('travel length',travel_length )\n",
    "            print('g to add',g)\n",
    "                    \n",
    "\n",
    "    print('finish')\n",
    "\n",
    "    return close_list, travel_length"
   ]
  },
  {
   "cell_type": "code",
   "execution_count": 13,
   "metadata": {},
   "outputs": [
    {
     "name": "stdout",
     "output_type": "stream",
     "text": [
      "('origin', 'A')\n",
      "('destination', 'G')\n",
      "start\n",
      "('close_list', [])\n",
      "Pop a node out of open list\n",
      "('current_node', 'A')\n",
      "('priority queue', [])\n",
      "('next node', 'A')\n",
      "('g', 0)\n",
      "('h', 9)\n",
      "('f', 9)\n",
      "('in open list?', False)\n",
      "('priority queue', [(9, 'A')])\n",
      "('next node', 'C')\n",
      "('g', 4)\n",
      "('h', 3)\n",
      "('f', 7)\n",
      "('in open list?', False)\n",
      "('priority queue', [(7, 'C'), (9, 'A')])\n",
      "('next node', 'B')\n",
      "('g', 1)\n",
      "('h', 5)\n",
      "('f', 6)\n",
      "('in open list?', False)\n",
      "('priority queue', [(6, 'B'), (9, 'A'), (7, 'C')])\n",
      "('next node', 'H')\n",
      "('g', 1)\n",
      "('h', 7)\n",
      "('f', 8)\n",
      "('in open list?', False)\n",
      "('priority queue', [(6, 'B'), (8, 'H'), (7, 'C'), (9, 'A')])\n",
      "('next node', 'K')\n",
      "('g', 4)\n",
      "('h', 6)\n",
      "('f', 10)\n",
      "('in open list?', False)\n",
      "('priority queue', [(6, 'B'), (8, 'H'), (7, 'C'), (9, 'A'), (10, 'K')])\n",
      "('next node', 'S')\n",
      "('g', 7)\n",
      "('h', 9)\n",
      "('f', 16)\n",
      "('in open list?', False)\n",
      "('priority queue', [(6, 'B'), (8, 'H'), (7, 'C'), (9, 'A'), (10, 'K'), (16, 'S')])\n",
      "('travel length', 17)\n",
      "('g to add', 7)\n",
      "('close_list', ['A'])\n",
      "Pop a node out of open list\n",
      "('current_node', 'B')\n",
      "('priority queue', [(7, 'C'), (8, 'H'), (16, 'S'), (9, 'A'), (10, 'K')])\n",
      "('priority queue', [(7, 'C'), (8, 'H'), (16, 'S'), (9, 'A'), (10, 'K')])\n",
      "('next node', 'C')\n",
      "('g', 2)\n",
      "('h', 3)\n",
      "('f', 5)\n",
      "('in open list?', True)\n",
      "('priority queue', [(7, 'C'), (8, 'H'), (16, 'S'), (9, 'A'), (10, 'K')])\n",
      "('next node', 'E')\n",
      "('g', 5)\n",
      "('h', 1)\n",
      "('f', 6)\n",
      "('in open list?', False)\n",
      "('priority queue', [(6, 'E'), (8, 'H'), (7, 'C'), (9, 'A'), (10, 'K'), (16, 'S')])\n"
     ]
    },
    {
     "data": {
      "text/plain": [
       "(['A', 'G'], 22)"
      ]
     },
     "execution_count": 13,
     "metadata": {},
     "output_type": "execute_result"
    }
   ],
   "source": [
    "find_shortest_path_gain(G, 'A', 'G')\n"
   ]
  },
  {
   "cell_type": "code",
   "execution_count": 14,
   "metadata": {},
   "outputs": [
    {
     "data": {
      "text/plain": [
       "{'impedance': 2, 'length': 1}"
      ]
     },
     "execution_count": 14,
     "metadata": {},
     "output_type": "execute_result"
    }
   ],
   "source": [
    "G.get_edge_data('A','B')"
   ]
  },
  {
   "cell_type": "code",
   "execution_count": null,
   "metadata": {
    "collapsed": true
   },
   "outputs": [],
   "source": []
  }
 ],
 "metadata": {
  "kernelspec": {
   "display_name": "Python 2",
   "language": "python",
   "name": "python2"
  },
  "language_info": {
   "codemirror_mode": {
    "name": "ipython",
    "version": 2
   },
   "file_extension": ".py",
   "mimetype": "text/x-python",
   "name": "python",
   "nbconvert_exporter": "python",
   "pygments_lexer": "ipython2",
   "version": "2.7.13"
  }
 },
 "nbformat": 4,
 "nbformat_minor": 2
}
