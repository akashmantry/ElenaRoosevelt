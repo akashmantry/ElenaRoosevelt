{
 "cells": [
  {
   "cell_type": "code",
   "execution_count": 183,
   "metadata": {
    "collapsed": true
   },
   "outputs": [],
   "source": [
    "import osmnx as ox\n",
    "import osmnx as ox, networkx as nx, numpy as np\n",
    "ox.config(log_console=True, use_cache=True)\n",
    "G=nx.Graph()"
   ]
  },
  {
   "cell_type": "code",
   "execution_count": 184,
   "metadata": {
    "collapsed": true
   },
   "outputs": [],
   "source": [
    "G.add_edge('A', 'B', length = 1, impedance = 2)\n",
    "G.add_edge('A', 'C', length = 4, impedance = 1)\n",
    "G.add_edge('C', 'B', length = 2, impedance = 2)\n",
    "G.add_edge('B', 'E', length = 5, impedance = 2)\n",
    "G.add_edge('C', 'E', length = 5, impedance = 2)\n",
    "G.add_edge('E', 'D', length = 6, impedance = 1)\n",
    "G.add_edge('F', 'G', length = 7, impedance = 3)\n",
    "G.add_edge('E', 'G', length = 3, impedance = 3)\n",
    "G.add_edge('D', 'F', length = 6, impedance = 2)\n",
    "G.add_edge('A', 'A', length = 0, impedance = 0)\n",
    "\n",
    "\n",
    "G.add_node('A',h_value = 9) \n",
    "G.add_node('B',h_value = 5) \n",
    "G.add_node('C',h_value = 3) \n",
    "G.add_node('D',h_value = 4) \n",
    "G.add_node('E',h_value = 1) \n",
    "G.add_node('G',h_value = 0) \n",
    "G.add_node('F',h_value = 3) "
   ]
  },
  {
   "cell_type": "code",
   "execution_count": 185,
   "metadata": {},
   "outputs": [
    {
     "data": {
      "text/plain": [
       "[(('A', 'A'), {'impedance': 0, 'length': 0}),\n",
       " (('A', 'C'), {'impedance': 1, 'length': 4}),\n",
       " (('A', 'B'), {'impedance': 2, 'length': 1}),\n",
       " (('C', 'B'), {'impedance': 2, 'length': 2}),\n",
       " (('C', 'E'), {'impedance': 2, 'length': 5}),\n",
       " (('B', 'E'), {'impedance': 2, 'length': 5}),\n",
       " (('E', 'D'), {'impedance': 1, 'length': 6}),\n",
       " (('E', 'G'), {'impedance': 3, 'length': 3}),\n",
       " (('D', 'F'), {'impedance': 2, 'length': 6}),\n",
       " (('G', 'F'), {'impedance': 3, 'length': 7})]"
      ]
     },
     "execution_count": 185,
     "metadata": {},
     "output_type": "execute_result"
    }
   ],
   "source": [
    "G.edges.items()"
   ]
  },
  {
   "cell_type": "code",
   "execution_count": 186,
   "metadata": {},
   "outputs": [
    {
     "data": {
      "text/plain": [
       "[('A', {'h_value': 9}),\n",
       " ('C', {'h_value': 3}),\n",
       " ('B', {'h_value': 5}),\n",
       " ('E', {'h_value': 1}),\n",
       " ('D', {'h_value': 4}),\n",
       " ('G', {'h_value': 0}),\n",
       " ('F', {'h_value': 3})]"
      ]
     },
     "execution_count": 186,
     "metadata": {},
     "output_type": "execute_result"
    }
   ],
   "source": [
    "G.nodes.items()"
   ]
  },
  {
   "cell_type": "code",
   "execution_count": 187,
   "metadata": {
    "scrolled": true
   },
   "outputs": [
    {
     "data": {
      "text/plain": [
       "['A', 'B', 'E', 'G']"
      ]
     },
     "execution_count": 187,
     "metadata": {},
     "output_type": "execute_result"
    }
   ],
   "source": [
    "route_by_length = nx.shortest_path(G, source='A', target='G', weight='length')\n",
    "route_by_length"
   ]
  },
  {
   "cell_type": "code",
   "execution_count": 188,
   "metadata": {},
   "outputs": [
    {
     "data": {
      "text/plain": [
       "['A', 'C', 'E', 'G']"
      ]
     },
     "execution_count": 188,
     "metadata": {},
     "output_type": "execute_result"
    }
   ],
   "source": [
    "route_by_impedance = nx.shortest_path(G, source='A', target='G', weight='impedance')\n",
    "route_by_impedance"
   ]
  },
  {
   "cell_type": "code",
   "execution_count": 189,
   "metadata": {
    "collapsed": true
   },
   "outputs": [],
   "source": [
    "from searchAstar import *\n",
    "travel_dis = 0\n",
    "    #initialize open list: contains one node at a time, a parent node, remove that node,\n",
    "    #add node's neighbor with the least cost\n",
    "open_list = PriorityQueue()\n",
    "    #initialize closed list: is a record of all locations which have been explored and evaluated by the algorithm.\n",
    "close_list = []"
   ]
  },
  {
   "cell_type": "code",
   "execution_count": 190,
   "metadata": {},
   "outputs": [],
   "source": [
    "def find_shortest_path_gain(G, origin, destination):\n",
    "    print('origin', origin)\n",
    "    print('destination', destination)\n",
    "    print('start')\n",
    "    travel_length = 0\n",
    "        #add origin to open_list\n",
    "    open_list.put(origin, 0)\n",
    "    cost_elevation = 0\n",
    "\n",
    "    while not open_list.empty():\n",
    "        print('close_list', close_list)\n",
    "            #At origin, find path with minimum elevation gain => find node with least f on the open list\n",
    "            #remove from the list\n",
    "        current_node = open_list.get()\n",
    "        print('Pop a node out of open list')\n",
    "        print('current_node', current_node)\n",
    "\n",
    "        open_list.display()\n",
    "\n",
    "      #  print('current node', current_node)\n",
    "       # print(current_node == destination)\n",
    "       # print('is empty', open_list.empty())\n",
    "      #  print(type(current_node))\n",
    "      #  print(type(destination))\n",
    "        if current_node == destination:\n",
    "            print(current_node == destination)\n",
    "            close_list.append(current_node)\n",
    "            return  close_list, travel_length\n",
    "\n",
    "        else:\n",
    "            if current_node not in close_list:\n",
    "               # print(G.neighbors(current_node))\n",
    "                for next_node in G.neighbors(current_node):\n",
    "                  #  print('next node', next_node)\n",
    "                    if next_node not in close_list:\n",
    "                        elevation = G.get_edge_data(current_node,next_node)['impedance']\n",
    "                        g = G.get_edge_data(current_node,next_node)['length']\n",
    "                     \n",
    "                        h = G.node[next_node]['h_value']           \n",
    "                        f = g+h\n",
    "                        print('next node', next_node)\n",
    "                        print('g',g)\n",
    "                        print('h', h)\n",
    "                        print('f',f)\n",
    "                        \n",
    "                        possible_travel_length = travel_length + f\n",
    "                        if open_list.empty() or not open_list.isContain(next_node, f):\n",
    "                                open_list.put(next_node, f)\n",
    "                                if current_node not in close_list:\n",
    "                                    close_list.append(current_node)\n",
    "                                    print('travel length',travel_length )\n",
    "                                    print('g to add',g)\n",
    "                                    \n",
    "                                    travel_length += g\n",
    "\n",
    "                                   # print('close_list', close_list)\n",
    "\n",
    "                    open_list.display()\n",
    "\n",
    "    print('finish')\n",
    "\n",
    "    return close_list, travel_length"
   ]
  },
  {
   "cell_type": "code",
   "execution_count": 191,
   "metadata": {},
   "outputs": [
    {
     "name": "stdout",
     "output_type": "stream",
     "text": [
      "('origin', 'A')\n",
      "('destination', 'G')\n",
      "start\n",
      "('close_list', [])\n",
      "Pop a node out of open list\n",
      "('current_node', 'A')\n",
      "('priority queue', [])\n",
      "('next node', 'A')\n",
      "('g', 0)\n",
      "('h', 9)\n",
      "('f', 9)\n",
      "('travel length', 0)\n",
      "('g to add', 0)\n",
      "('priority queue', [(9, 'A')])\n",
      "('next node', 'C')\n",
      "('g', 4)\n",
      "('h', 3)\n",
      "('f', 7)\n",
      "('priority queue', [(7, 'C'), (9, 'A')])\n",
      "('next node', 'B')\n",
      "('g', 1)\n",
      "('h', 5)\n",
      "('f', 6)\n",
      "('priority queue', [(6, 'B'), (9, 'A'), (7, 'C')])\n",
      "('close_list', ['A'])\n",
      "Pop a node out of open list\n",
      "('current_node', 'B')\n",
      "('priority queue', [(7, 'C'), (9, 'A')])\n",
      "('priority queue', [(7, 'C'), (9, 'A')])\n",
      "('next node', 'C')\n",
      "('g', 2)\n",
      "('h', 3)\n",
      "('f', 5)\n",
      "('travel length', 0)\n",
      "('g to add', 2)\n",
      "('priority queue', [(5, 'C'), (9, 'A'), (7, 'C')])\n",
      "('next node', 'E')\n",
      "('g', 5)\n",
      "('h', 1)\n",
      "('f', 6)\n",
      "('priority queue', [(5, 'C'), (6, 'E'), (7, 'C'), (9, 'A')])\n",
      "('close_list', ['A', 'B'])\n",
      "Pop a node out of open list\n",
      "('current_node', 'C')\n",
      "('priority queue', [(6, 'E'), (9, 'A'), (7, 'C')])\n",
      "('priority queue', [(6, 'E'), (9, 'A'), (7, 'C')])\n",
      "('priority queue', [(6, 'E'), (9, 'A'), (7, 'C')])\n",
      "('next node', 'E')\n",
      "('g', 5)\n",
      "('h', 1)\n",
      "('f', 6)\n",
      "('priority queue', [(6, 'E'), (9, 'A'), (7, 'C')])\n",
      "('close_list', ['A', 'B'])\n",
      "Pop a node out of open list\n",
      "('current_node', 'E')\n",
      "('priority queue', [(7, 'C'), (9, 'A')])\n",
      "('next node', 'C')\n",
      "('g', 5)\n",
      "('h', 3)\n",
      "('f', 8)\n",
      "('travel length', 2)\n",
      "('g to add', 5)\n",
      "('priority queue', [(7, 'C'), (9, 'A'), (8, 'C')])\n",
      "('priority queue', [(7, 'C'), (9, 'A'), (8, 'C')])\n",
      "('next node', 'D')\n",
      "('g', 6)\n",
      "('h', 4)\n",
      "('f', 10)\n",
      "('priority queue', [(7, 'C'), (9, 'A'), (8, 'C'), (10, 'D')])\n",
      "('next node', 'G')\n",
      "('g', 3)\n",
      "('h', 0)\n",
      "('f', 3)\n",
      "('priority queue', [(3, 'G'), (7, 'C'), (8, 'C'), (10, 'D'), (9, 'A')])\n",
      "('close_list', ['A', 'B', 'E'])\n",
      "Pop a node out of open list\n",
      "('current_node', 'G')\n",
      "('priority queue', [(7, 'C'), (9, 'A'), (8, 'C'), (10, 'D')])\n",
      "True\n"
     ]
    },
    {
     "data": {
      "text/plain": [
       "(['A', 'B', 'E', 'G'], 7)"
      ]
     },
     "execution_count": 191,
     "metadata": {},
     "output_type": "execute_result"
    }
   ],
   "source": [
    "find_shortest_path_gain(G, 'A', 'G')\n"
   ]
  },
  {
   "cell_type": "code",
   "execution_count": 192,
   "metadata": {},
   "outputs": [
    {
     "data": {
      "text/plain": [
       "{'impedance': 2, 'length': 1}"
      ]
     },
     "execution_count": 192,
     "metadata": {},
     "output_type": "execute_result"
    }
   ],
   "source": [
    "G.get_edge_data('A','B')"
   ]
  },
  {
   "cell_type": "code",
   "execution_count": null,
   "metadata": {
    "collapsed": true
   },
   "outputs": [],
   "source": []
  }
 ],
 "metadata": {
  "kernelspec": {
   "display_name": "Python 2",
   "language": "python",
   "name": "python2"
  },
  "language_info": {
   "codemirror_mode": {
    "name": "ipython",
    "version": 2
   },
   "file_extension": ".py",
   "mimetype": "text/x-python",
   "name": "python",
   "nbconvert_exporter": "python",
   "pygments_lexer": "ipython2",
   "version": "2.7.13"
  }
 },
 "nbformat": 4,
 "nbformat_minor": 2
}
